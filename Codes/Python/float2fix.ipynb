{
 "cells": [
  {
   "cell_type": "markdown",
   "metadata": {},
   "source": [
    "### Import libraries"
   ]
  },
  {
   "cell_type": "code",
   "execution_count": 2,
   "metadata": {},
   "outputs": [],
   "source": [
    "import numpy as np\n",
    "from fxpmath import Fxp\n",
    "from utils import*"
   ]
  },
  {
   "cell_type": "markdown",
   "metadata": {},
   "source": [
    "### Read matrices A and B from $\\texttt{test\\_case.txt}$\n",
    "This file contains:\n",
    "\n",
    "A:\n",
    "\n",
    "2.54 4.31 3.15\n",
    "\n",
    "1.01 0.0 5.74\n",
    "\n",
    "6.84 3.21 3.17\n",
    "\n",
    "B:\n",
    "\n",
    "1.0 0 0\n",
    "\n",
    "0 1.0 0\n",
    "\n",
    "0 0 1.0"
   ]
  },
  {
   "cell_type": "code",
   "execution_count": 7,
   "metadata": {},
   "outputs": [],
   "source": [
    "matrices = read_matrix(\"test_case.txt\")\n",
    "a = matrices['A']\n",
    "b = matrices['B']"
   ]
  },
  {
   "cell_type": "code",
   "execution_count": 9,
   "metadata": {},
   "outputs": [
    {
     "name": "stdout",
     "output_type": "stream",
     "text": [
      "Matrix A is: \n",
      "[[2.54 4.31 3.15]\n",
      " [1.01 0.   5.74]\n",
      " [6.84 3.21 3.17]]\n"
     ]
    }
   ],
   "source": [
    "print(\"Matrix A is: \")\n",
    "print(a)"
   ]
  },
  {
   "cell_type": "code",
   "execution_count": 10,
   "metadata": {},
   "outputs": [
    {
     "name": "stdout",
     "output_type": "stream",
     "text": [
      "Matrix B is: \n",
      "[[1. 0. 0.]\n",
      " [0. 1. 0.]\n",
      " [0. 0. 1.]]\n"
     ]
    }
   ],
   "source": [
    "print(\"Matrix B is: \")\n",
    "print(b)"
   ]
  },
  {
   "cell_type": "markdown",
   "metadata": {},
   "source": [
    "### Perform 32-bit floating point matrix multiplication"
   ]
  },
  {
   "cell_type": "code",
   "execution_count": 11,
   "metadata": {},
   "outputs": [
    {
     "name": "stdout",
     "output_type": "stream",
     "text": [
      "Matrix multiplication result (c): \n",
      "[[2.54 4.31 3.15]\n",
      " [1.01 0.   5.74]\n",
      " [6.84 3.21 3.17]]\n"
     ]
    }
   ],
   "source": [
    "c = np.matmul(a, b)\n",
    "print(\"Matrix multiplication result (c): \")\n",
    "print(c)"
   ]
  },
  {
   "cell_type": "markdown",
   "metadata": {},
   "source": [
    "### Convert array to the 8-bit fixed point"
   ]
  },
  {
   "cell_type": "code",
   "execution_count": 25,
   "metadata": {},
   "outputs": [],
   "source": [
    "a_fix = Fxp(a, signed=False, n_word=8, n_frac=4)\n",
    "b_fix = Fxp(b, signed=False, n_word=8, n_frac=4)"
   ]
  },
  {
   "cell_type": "code",
   "execution_count": 29,
   "metadata": {},
   "outputs": [
    {
     "name": "stdout",
     "output_type": "stream",
     "text": [
      "Fixed-point representation (a_fix):\n",
      "0010.1000 0100.0100 0011.0010 \n",
      "0001.0000 0000.0000 0101.1011 \n",
      "0110.1101 0011.0011 0011.0010 \n"
     ]
    }
   ],
   "source": [
    "print(\"Fixed-point representation (a_fix):\")\n",
    "for i in range(a_fix.shape[0]):\n",
    "    for j in range(a_fix.shape[1]):\n",
    "        print(a_fix[i, j].bin(frac_dot=True), end=' ')\n",
    "    print()"
   ]
  },
  {
   "cell_type": "code",
   "execution_count": 28,
   "metadata": {},
   "outputs": [
    {
     "name": "stdout",
     "output_type": "stream",
     "text": [
      "Fixed-point representation (b_fix):\n",
      "0001.0000 0000.0000 0000.0000 \n",
      "0000.0000 0001.0000 0000.0000 \n",
      "0000.0000 0000.0000 0001.0000 \n"
     ]
    }
   ],
   "source": [
    "print(\"Fixed-point representation (b_fix):\")\n",
    "for i in range(b_fix.shape[0]):\n",
    "    for j in range(b_fix.shape[1]):\n",
    "        print(b_fix[i, j].bin(frac_dot=True), end=' ')\n",
    "    print()"
   ]
  },
  {
   "cell_type": "code",
   "execution_count": 31,
   "metadata": {},
   "outputs": [
    {
     "name": "stdout",
     "output_type": "stream",
     "text": [
      "Matrix multiplication result (c_fix): \n",
      "[[2.5    4.25   3.125 ]\n",
      " [1.     0.     5.6875]\n",
      " [6.8125 3.1875 3.125 ]]\n"
     ]
    }
   ],
   "source": [
    "c_fix = np.matmul(a_fix, b_fix)\n",
    "print(\"Matrix multiplication result (c_fix): \")\n",
    "print(c_fix)"
   ]
  }
 ],
 "metadata": {
  "kernelspec": {
   "display_name": "Python 3",
   "language": "python",
   "name": "python3"
  },
  "language_info": {
   "codemirror_mode": {
    "name": "ipython",
    "version": 3
   },
   "file_extension": ".py",
   "mimetype": "text/x-python",
   "name": "python",
   "nbconvert_exporter": "python",
   "pygments_lexer": "ipython3",
   "version": "3.12.3"
  }
 },
 "nbformat": 4,
 "nbformat_minor": 2
}
